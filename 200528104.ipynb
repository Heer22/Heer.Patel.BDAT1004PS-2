{
 "cells": [
  {
   "cell_type": "markdown",
   "id": "130d09b9",
   "metadata": {},
   "source": [
    "Question 1\n",
    "Consider the following Python module:\n",
    "a = 0\n",
    "def b():\n",
    " global a\n",
    " a = c(a)\n",
    "def c(a):\n",
    " return a + 2\n",
    "After importing the module into the interpreter, you execute:\n",
    ">>> b()\n",
    ">>> b()\n",
    ">>> b()\n",
    ">>> a\n",
    "?\n",
    "What value is displayed when the last expression (a) is evaluated? Explain your\n",
    "answer by indicating what happens in every executed statement."
   ]
  },
  {
   "cell_type": "code",
   "execution_count": 5,
   "id": "5755224a",
   "metadata": {},
   "outputs": [],
   "source": [
    "a = 0\n",
    "def b():\n",
    "    global a\n",
    "    a = c(a)\n",
    "def c(a):\n",
    "    return a + 2"
   ]
  },
  {
   "cell_type": "code",
   "execution_count": 6,
   "id": "ee36ba25",
   "metadata": {},
   "outputs": [
    {
     "data": {
      "text/plain": [
       "6"
      ]
     },
     "execution_count": 6,
     "metadata": {},
     "output_type": "execute_result"
    }
   ],
   "source": [
    "b()\n",
    "b()\n",
    "b()\n",
    "a"
   ]
  },
  {
   "cell_type": "markdown",
   "id": "b9cb13f1",
   "metadata": {},
   "source": [
    "\"a\" is used in both b and c because the initial value of a is 0. \n",
    "B() utilises c(), which raises the values in a by 2. \n",
    "In this manner, 2 is added to the value of an each time b is called, and c is also called. Since \"a\" is a global variable, \n",
    "every time b is called, as value is updated globally."
   ]
  },
  {
   "cell_type": "markdown",
   "id": "0d44ff62",
   "metadata": {},
   "source": [
    "Question 2\n",
    "Function fileLength(), given to you, takes the name of a file as input and returns\n",
    "the length of the file:\n",
    ">>> fileLength('midterm.py')\n",
    "284\n",
    ">>> fileLength('idterm.py')\n",
    "Traceback (most recent call last):\n",
    "File \"<pyshell#34>\", line 1, in <module>\n",
    " fileLength('idterm.py')\n",
    "File \"/Users/me/midterm.py\", line 3, in fileLength\n",
    " infile = open(filename)\n",
    "FileNotFoundError: [Errno 2] No such file or directory:\n",
    "'idterm.py'\n",
    "As shown above, if the file cannot be found by the interpreter or if it cannot be read\n",
    "as a text file, an exception will be raised. Modify function fileLength() so that a\n",
    "friendly message is printed instead:\n",
    ">>> fileLength('midterm.py')\n",
    "358\n",
    ">>> fileLength('idterm.py')\n",
    "File idterm.py not found.\n"
   ]
  },
  {
   "cell_type": "code",
   "execution_count": 1,
   "id": "a28d930d",
   "metadata": {},
   "outputs": [],
   "source": [
    "def file_len(f):\n",
    "    try:\n",
    "        file = open(f, \"r\")\n",
    "        contents=file.read()\n",
    "        print('Given file length is : '+str(len(contents)))\n",
    "        file.close()\n",
    "    except:\n",
    "            print('File '+f+' not found')\n",
    "            "
   ]
  },
  {
   "cell_type": "code",
   "execution_count": 2,
   "id": "8eda4100",
   "metadata": {},
   "outputs": [
    {
     "name": "stdout",
     "output_type": "stream",
     "text": [
      "Given file length is : 123\n"
     ]
    }
   ],
   "source": [
    "file_len(\"FileLength.txt\")"
   ]
  },
  {
   "cell_type": "code",
   "execution_count": 3,
   "id": "bc80e474",
   "metadata": {},
   "outputs": [
    {
     "name": "stdout",
     "output_type": "stream",
     "text": [
      "File filelength.py not found\n"
     ]
    }
   ],
   "source": [
    "file_len(\"filelength.py\")"
   ]
  },
  {
   "cell_type": "markdown",
   "id": "11f4e7eb",
   "metadata": {},
   "source": [
    "Question 3\n",
    "Write a class named Marsupial that can be used as shown below:\n",
    ">>> m = Marsupial()\n",
    ">>> m.put_in_pouch('doll')\n",
    ">>> m.put_in_pouch('firetruck')\n",
    ">>> m.put_in_pouch('kitten')\n",
    ">>> m.pouch_contents()\n",
    "['doll', 'firetruck', 'kitten']\n",
    "Now write a class named Kangaroo as a subclass of Marsupial that inherits all the\n",
    "attributes of Marsupial and also:\n",
    "a. extends the Marsupial __init__ constructor to take, as input, the\n",
    "coordinates x and y of the Kangaroo object,\n",
    "b. supports method jump that takes number values dx and dy as input and\n",
    "moves the kangaroo by dx units along the x-axis and by dy units along the yaxis, and\n",
    "c. overloads the __str__ operator so it behaves as shown below.\n",
    ">>> k = Kangaroo(0,0)\n",
    ">>> print(k)\n",
    "I am a Kangaroo located at coordinates (0,0)\n",
    ">>> k.put_in_pouch('doll')\n",
    ">>> k.put_in_pouch('firetruck')\n",
    ">>> k.put_in_pouch('kitten')\n",
    ">>> k.pouch_contents()\n",
    "['doll', 'firetruck', 'kitten']\n",
    ">>> k.jump(1,0)\n",
    ">>> k.jump(1,0)\n",
    ">>> k.jump(1,0)\n",
    ">>> print(k)\n",
    "I am a Kangaroo located at coordinates (3,0)"
   ]
  },
  {
   "cell_type": "code",
   "execution_count": 4,
   "id": "a640ad18",
   "metadata": {},
   "outputs": [],
   "source": [
    "\n",
    "class Marsupial(object):\n",
    "    def __init__(self):\n",
    "        self.mylist = []\n",
    "    def put_in_pouch(self, item):\n",
    "        self.mylist.append(item)\n",
    "    def pouch_contents(self):\n",
    "        return self.mylist"
   ]
  },
  {
   "cell_type": "code",
   "execution_count": 6,
   "id": "78c57e42",
   "metadata": {},
   "outputs": [
    {
     "data": {
      "text/plain": [
       "['doll', 'firetruck', 'kitten']"
      ]
     },
     "execution_count": 6,
     "metadata": {},
     "output_type": "execute_result"
    }
   ],
   "source": [
    "m = Marsupial()\n",
    "m.put_in_pouch('doll')\n",
    "m.put_in_pouch('firetruck')\n",
    "m.put_in_pouch('kitten')\n",
    "m.pouch_contents()"
   ]
  },
  {
   "cell_type": "code",
   "execution_count": 41,
   "id": "156ae91a",
   "metadata": {},
   "outputs": [],
   "source": [
    "class Kangaroo(Marsupial):\n",
    "    def __init__(self,a,b):\n",
    "        Marsupial.__init__(self)\n",
    "        self.a = a\n",
    "        self.b = b\n",
    "    \n",
    "    def jump(self,x,y): \n",
    "        self.a = self.a + x\n",
    "        self.b = self.b +y\n",
    "        \n",
    "    def __str__(self):\n",
    "        return 'I am a kangaroo located at at coordinates ({},{})'.format(self.a,self.b)"
   ]
  },
  {
   "cell_type": "code",
   "execution_count": 42,
   "id": "066c462c",
   "metadata": {},
   "outputs": [
    {
     "name": "stdout",
     "output_type": "stream",
     "text": [
      "I am a kangaroo located at at coordinates (0,0)\n"
     ]
    }
   ],
   "source": [
    "m = Kangaroo(0,0)\n",
    "print(m)"
   ]
  },
  {
   "cell_type": "code",
   "execution_count": 11,
   "id": "22d73622",
   "metadata": {},
   "outputs": [
    {
     "data": {
      "text/plain": [
       "['doll', 'firetruck', 'kitten']"
      ]
     },
     "execution_count": 11,
     "metadata": {},
     "output_type": "execute_result"
    }
   ],
   "source": [
    "m.put_in_pouch('doll')\n",
    "m.put_in_pouch('firetruck')\n",
    "m.put_in_pouch('kitten')\n",
    "m.pouch_contents()"
   ]
  },
  {
   "cell_type": "code",
   "execution_count": 12,
   "id": "f52ca360",
   "metadata": {},
   "outputs": [
    {
     "name": "stdout",
     "output_type": "stream",
     "text": [
      "I am a kangaroo located at at coordinates (3,0)\n"
     ]
    }
   ],
   "source": [
    "m.jump(1,0)\n",
    "m.jump(1,0)\n",
    "m.jump(1,0)\n",
    "print(m)"
   ]
  },
  {
   "cell_type": "markdown",
   "id": "51aadce1",
   "metadata": {},
   "source": [
    "Question 4\n",
    "Write function collatz() that takes a positive integer x as input and prints the\n",
    "Collatz sequence starting at x. A Collatz sequence is obtained by repeatedly applying\n",
    "this rule to the previous number x in the sequence:\n",
    "x = {\n",
    "𝑥/2 𝑖𝑓 𝑥 𝑖𝑠 𝑒𝑣𝑒𝑛\n",
    "3𝑥 + 1 𝑖𝑓 𝑥 𝑖𝑠 𝑜𝑑𝑑\n",
    "Your function should stop when the sequence gets to number 1. Your\n",
    "implementation must be recursive, without any loops."
   ]
  },
  {
   "cell_type": "code",
   "execution_count": 43,
   "id": "f88b596f",
   "metadata": {},
   "outputs": [],
   "source": [
    "\"\"\"Q4\"\"\"\n",
    "\n",
    "def collatz(a):\n",
    "    if a != 1:\n",
    "        if a%2!=0:\n",
    "            print(int(a))\n",
    "            collatz(3*a+1)\n",
    "            \n",
    "        else:\n",
    "            print(int(a))\n",
    "            collatz(a/2)\n",
    "        \n",
    "    else:\n",
    "        print(int(a));\n",
    "        "
   ]
  },
  {
   "cell_type": "code",
   "execution_count": 44,
   "id": "a5510773",
   "metadata": {},
   "outputs": [
    {
     "name": "stdout",
     "output_type": "stream",
     "text": [
      "1\n"
     ]
    }
   ],
   "source": [
    "collatz(1)"
   ]
  },
  {
   "cell_type": "code",
   "execution_count": 45,
   "id": "0ca67fa3",
   "metadata": {},
   "outputs": [
    {
     "name": "stdout",
     "output_type": "stream",
     "text": [
      "10\n",
      "5\n",
      "16\n",
      "8\n",
      "4\n",
      "2\n",
      "1\n"
     ]
    }
   ],
   "source": [
    "collatz(10)"
   ]
  },
  {
   "cell_type": "markdown",
   "id": "38e425aa",
   "metadata": {},
   "source": [
    "Question 5\n",
    "Write a recursive method binary() that takes a non-negative\n",
    "integer n and prints the binary representation of integer n."
   ]
  },
  {
   "cell_type": "code",
   "execution_count": 8,
   "id": "5e84a26b",
   "metadata": {},
   "outputs": [],
   "source": [
    "\n",
    "def binary(n):\n",
    "    if n>0:\n",
    "        return (n % 2 + 10*binary(int(n // 2)))\n",
    "    \n",
    "    else:\n",
    "        return 0"
   ]
  },
  {
   "cell_type": "code",
   "execution_count": 9,
   "id": "79624f0d",
   "metadata": {},
   "outputs": [
    {
     "data": {
      "text/plain": [
       "0"
      ]
     },
     "execution_count": 9,
     "metadata": {},
     "output_type": "execute_result"
    }
   ],
   "source": [
    "binary(0)"
   ]
  },
  {
   "cell_type": "code",
   "execution_count": 10,
   "id": "484efcb2",
   "metadata": {},
   "outputs": [
    {
     "data": {
      "text/plain": [
       "1"
      ]
     },
     "execution_count": 10,
     "metadata": {},
     "output_type": "execute_result"
    }
   ],
   "source": [
    "binary(1)"
   ]
  },
  {
   "cell_type": "code",
   "execution_count": 11,
   "id": "0f6fb216",
   "metadata": {},
   "outputs": [
    {
     "data": {
      "text/plain": [
       "11"
      ]
     },
     "execution_count": 11,
     "metadata": {},
     "output_type": "execute_result"
    }
   ],
   "source": [
    "binary(3)"
   ]
  },
  {
   "cell_type": "code",
   "execution_count": 12,
   "id": "446ee278",
   "metadata": {},
   "outputs": [
    {
     "data": {
      "text/plain": [
       "1001"
      ]
     },
     "execution_count": 12,
     "metadata": {},
     "output_type": "execute_result"
    }
   ],
   "source": [
    "binary(9)"
   ]
  },
  {
   "cell_type": "code",
   "execution_count": 13,
   "id": "ff9998f9",
   "metadata": {},
   "outputs": [
    {
     "data": {
      "text/plain": [
       "10110"
      ]
     },
     "execution_count": 13,
     "metadata": {},
     "output_type": "execute_result"
    }
   ],
   "source": [
    "binary(22)"
   ]
  },
  {
   "cell_type": "markdown",
   "id": "b795d627",
   "metadata": {},
   "source": [
    "Question 6\n",
    "Implement a class named HeadingParser that can be used to parse an HTML\n",
    "document, and retrieve and print all the headings in the document. You should\n",
    "implement your class as a subclass of HTMLParser, defined in Standard Library\n",
    "module html.parser. When fed a string containing HTML code, your class should\n",
    "print the headings, one per line and in the order in which they appear in the\n",
    "document. Each heading should be indented as follows: an h1 heading should have \n",
    "indentation 0, and h2 heading should have indentation 1, etc. Test your\n",
    "implementation using w3c.html."
   ]
  },
  {
   "cell_type": "code",
   "execution_count": 24,
   "id": "017b15a8",
   "metadata": {},
   "outputs": [],
   "source": [
    "from html.parser import HTMLParser\n",
    "class HeadingParser(HTMLParser):\n",
    "    def __init__(self):\n",
    "        HTMLParser.__init__(self)\n",
    "        self.head =0\n",
    "        self.intend = \"\"\n",
    "    def handle_starttag(self, tag, attrs):\n",
    "        if tag[:-1]=='h':\n",
    "            self.head = \"type\"\n",
    "    def handle_data(self, data):\n",
    "        if self.head==\"type\":\n",
    "            print(self.intend+ data)\n",
    "            self.intend+= \"    \"\n",
    "            self.head=0"
   ]
  },
  {
   "cell_type": "code",
   "execution_count": 46,
   "id": "acf0bb73",
   "metadata": {},
   "outputs": [
    {
     "name": "stdout",
     "output_type": "stream",
     "text": [
      "W3C Mission\n",
      "    Principles\n"
     ]
    }
   ],
   "source": [
    "infile = open('w3c.html')\n",
    "content = infile.read()\n",
    "infile.close()\n",
    "headingparser = HeadingParser()\n",
    "headingparser.feed(content)"
   ]
  },
  {
   "cell_type": "markdown",
   "id": "2df3d5a4",
   "metadata": {},
   "source": [
    "Question 7\n",
    "Implement recursive function webdir() that takes as input: a URL (as a string) and\n",
    "non-negative integers depth and indent. Your function should visit every web\n",
    "page reachable from the starting URL web page in depth clicks or less, and print\n",
    "each web page's URL. As shown below, indentation, specified by indent, should\n",
    "be used to indicate the depth of a URL."
   ]
  },
  {
   "cell_type": "code",
   "execution_count": 28,
   "id": "caa9984b",
   "metadata": {},
   "outputs": [],
   "source": [
    "\"\"\"Q7\"\"\"\n",
    "from html.parser import HTMLParser    \n",
    "from urllib.request import urlopen\n",
    "from urllib.parse import urljoin\n",
    "\n",
    "class collector(HTMLParser):\n",
    "    \n",
    "    def __init__(self, url):\n",
    "        \n",
    "        HTMLParser.__init__(self)\n",
    "        self.url = url\n",
    "        self.links = []\n",
    "        \n",
    "    def append(self):\n",
    "        return self.links\n",
    "    \n",
    "    def handle_starttag(self, url_tag, attributes):\n",
    "        for i in attributes:\n",
    "            mylinks = urljoin(self.url, a[1])\n",
    "            if mylinks[:4] == 'http':\n",
    "                self.url_links.append(mylinks)\n",
    "                i = 0\n",
    "def webdir(url, depth, i):\n",
    "    \n",
    "    depth = depth - 1\n",
    "    print(i*'  ', url)\n",
    "    \n",
    "    objective = urlopen(url).read().decode()\n",
    "    collection = urlcollector(url)\n",
    "    collection.feed(objective)\n",
    "    urls = collection.append()\n",
    "    \n",
    "    links = urls\n",
    "    i = i + 4\n",
    "    \n",
    "    for link in links:\n",
    "        if depth < 0 or i < 0:\n",
    "            return 1\n",
    "        else:\n",
    "            webdir(link, depth, i)"
   ]
  },
  {
   "cell_type": "code",
   "execution_count": 29,
   "id": "c0f0f3dc",
   "metadata": {},
   "outputs": [
    {
     "name": "stdout",
     "output_type": "stream",
     "text": [
      " http://reed.cs.depaul.edu/lperkovic/test1.html\n"
     ]
    },
    {
     "ename": "NameError",
     "evalue": "name 'urlcollector' is not defined",
     "output_type": "error",
     "traceback": [
      "\u001b[1;31m---------------------------------------------------------------------------\u001b[0m",
      "\u001b[1;31mNameError\u001b[0m                                 Traceback (most recent call last)",
      "Input \u001b[1;32mIn [29]\u001b[0m, in \u001b[0;36m<cell line: 1>\u001b[1;34m()\u001b[0m\n\u001b[1;32m----> 1\u001b[0m \u001b[43mwebdir\u001b[49m\u001b[43m(\u001b[49m\u001b[38;5;124;43m'\u001b[39;49m\u001b[38;5;124;43mhttp://reed.cs.depaul.edu/lperkovic/test1.html\u001b[39;49m\u001b[38;5;124;43m'\u001b[39;49m\u001b[43m,\u001b[49m\u001b[43m \u001b[49m\u001b[38;5;241;43m2\u001b[39;49m\u001b[43m,\u001b[49m\u001b[43m \u001b[49m\u001b[38;5;241;43m0\u001b[39;49m\u001b[43m)\u001b[49m\n",
      "Input \u001b[1;32mIn [28]\u001b[0m, in \u001b[0;36mwebdir\u001b[1;34m(url, depth, i)\u001b[0m\n\u001b[0;32m     26\u001b[0m \u001b[38;5;28mprint\u001b[39m(i\u001b[38;5;241m*\u001b[39m\u001b[38;5;124m'\u001b[39m\u001b[38;5;124m  \u001b[39m\u001b[38;5;124m'\u001b[39m, url)\n\u001b[0;32m     28\u001b[0m objective \u001b[38;5;241m=\u001b[39m urlopen(url)\u001b[38;5;241m.\u001b[39mread()\u001b[38;5;241m.\u001b[39mdecode()\n\u001b[1;32m---> 29\u001b[0m collection \u001b[38;5;241m=\u001b[39m \u001b[43murlcollector\u001b[49m(url)\n\u001b[0;32m     30\u001b[0m collection\u001b[38;5;241m.\u001b[39mfeed(objective)\n\u001b[0;32m     31\u001b[0m urls \u001b[38;5;241m=\u001b[39m collection\u001b[38;5;241m.\u001b[39mappend()\n",
      "\u001b[1;31mNameError\u001b[0m: name 'urlcollector' is not defined"
     ]
    }
   ],
   "source": [
    "webdir('http://reed.cs.depaul.edu/lperkovic/test1.html', 2, 0)"
   ]
  },
  {
   "cell_type": "markdown",
   "id": "dc80d37b",
   "metadata": {},
   "source": [
    "Question 8\n",
    "Write SQL queries on the below database table that return:\n",
    "a) All the temperature data.\n",
    "b) All the cities, but without repetition.\n",
    "c) All the records for India.\n",
    "d) All the Fall records.\n",
    "e) The city, country, and season for which the average rainfall is between 200\n",
    "and 400 millimeters.\n",
    "f) The city and country for which the average Fall temperature is above 20\n",
    "degrees, in increasing temperature order.\n",
    "g) The total annual rainfall for Cairo.\n",
    "h) The total rainfall for each season.\n"
   ]
  },
  {
   "cell_type": "code",
   "execution_count": 30,
   "id": "7a426fc5",
   "metadata": {},
   "outputs": [],
   "source": [
    "\n",
    "import sqlite3\n",
    "\n",
    "con = sqlite3.connect('database_db')\n",
    "\n",
    "cur = con.cursor()\n",
    "\n",
    "cur.execute(\"CREATE TABLE database_d (City text, Country text, Season text, Temperature dec, Rainfall dec)\")\n",
    "\n",
    "cur.execute(\"INSERT INTO database_d VALUES ('Mumbai', 'India', 'Winter', 24.8, 5.9)\")\n",
    "\n",
    "cur.execute(\"INSERT INTO database_d VALUES ('Mumbai', 'India', 'Spring', 28.4, 16.2)\")\n",
    "\n",
    "cur.execute(\"INSERT INTO database_d VALUES ('Mumbai', 'India', 'Summer', 27.9, 1549.4)\")\n",
    "\n",
    "cur.execute(\"INSERT INTO database_d VALUES ('Mumbai', 'India', 'Fall', 27.6, 346.0)\")\n",
    "\n",
    "cur.execute(\"INSERT INTO database_d VALUES ('London', 'United Kingdom', 'Winter', 4.2, 207.7)\")\n",
    "\n",
    "cur.execute(\"INSERT INTO database_d VALUES ('London', 'United Kingdom', 'Spring', 8.3, 169.6)\")\n",
    "\n",
    "cur.execute(\"INSERT INTO database_d VALUES ('London', 'United Kingdom', 'Summer', 15.7, 157.0)\")\n",
    "\n",
    "cur.execute(\"INSERT INTO database_d VALUES ('London', 'United Kingdom', 'Fall', 10.4, 218.5)\")\n",
    "\n",
    "cur.execute(\"INSERT INTO database_d VALUES ('Cairo', 'Egypt', 'Winter', 13.6, 16.5)\")\n",
    "\n",
    "cur.execute(\"INSERT INTO database_d VALUES ('Cairo', 'Egypt', 'Spring', 20.7, 6.5)\")\n",
    "\n",
    "cur.execute(\"INSERT INTO database_d VALUES ('Cairo', 'Egypt', 'Summer', 27.7, 0.1)\")\n",
    "\n",
    "cur.execute(\"INSERT INTO database_d VALUES ('Cairo', 'Egypt', 'Fall', 22.2, 4.5)\")\n",
    "\n",
    "con.commit()\n",
    "con.close()"
   ]
  },
  {
   "cell_type": "code",
   "execution_count": 14,
   "id": "6fbd9260",
   "metadata": {},
   "outputs": [
    {
     "name": "stdout",
     "output_type": "stream",
     "text": [
      "(24.8,)\n",
      "(28.4,)\n",
      "(27.9,)\n",
      "(27.6,)\n",
      "(4.2,)\n",
      "(8.3,)\n",
      "(15.7,)\n",
      "(10.4,)\n",
      "(13.6,)\n",
      "(20.7,)\n",
      "(27.7,)\n",
      "(22.2,)\n",
      "('Mumbai',)\n",
      "('London',)\n",
      "('Cairo',)\n",
      "('Mumbai', 'India', 'Fall', 27.6, 346)\n",
      "('London', 'United Kingdom', 'Fall', 10.4, 218.5)\n",
      "('Cairo', 'Egypt', 'Fall', 22.2, 4.5)\n",
      "('Mumbai', 'India', 'Winter', 24.8, 5.9)\n",
      "('Mumbai', 'India', 'Spring', 28.4, 16.2)\n",
      "('Mumbai', 'India', 'Summer', 27.9, 1549.4)\n",
      "('Mumbai', 'India', 'Fall', 27.6, 346)\n",
      "('Mumbai', 'India')\n",
      "('Cairo', 'Egypt')\n",
      "('Mumbai', 'India', 'Fall')\n",
      "('London', 'United Kingdom', 'Winter')\n",
      "('London', 'United Kingdom', 'Fall')\n",
      "[(27.6,)]\n",
      "(569.0, 'Fall')\n",
      "(192.29999999999998, 'Spring')\n",
      "(1706.5, 'Summer')\n",
      "(230.1, 'Winter')\n"
     ]
    }
   ],
   "source": [
    "import sqlite3\n",
    "a = sqlite3.connect('database_db')\n",
    "b = a.cursor()\n",
    "b.execute('SELECT Temperature FROM database_d ')\n",
    "\n",
    "for record in b:\n",
    "    print(record)\n",
    "b.execute('SELECT DISTINCT City FROM database_d ')\n",
    "\n",
    "for record in b:\n",
    "    print(record)\n",
    "b.execute('SELECT * FROM database_d  where Season=\"Fall\"')\n",
    "\n",
    "for record in b:\n",
    "    print(record)\n",
    "b.execute('SELECT * FROM database_d  where Country=\"India\"')\n",
    "\n",
    "for record in b:\n",
    "    print(record)\n",
    "b.execute('SELECT City,Country FROM database_d  where (Season =\"Fall\") AND (temperature>20) ORDER BY Temperature DESC')\n",
    "\n",
    "for record in b:\n",
    "    print(record)\n",
    "b.execute('SELECT City,Country,Season FROM database_d  where (rainfall>200) AND (rainfall<400)')\n",
    "\n",
    "for record in b:\n",
    "    print(record)\n",
    "b.execute('SELECT SUM(Rainfall) FROM database_d  where City=\"Cairo\"')\n",
    "\n",
    "Annual_rainfall=b.fetchall()\n",
    "\n",
    "print(Annual_rainfall)\n",
    "b.execute('SELECT SUM(Rainfall),Season FROM database_d  GROUP BY Season')\n",
    "\n",
    "for record in b:\n",
    "    print(record)"
   ]
  },
  {
   "cell_type": "markdown",
   "id": "8179db9d",
   "metadata": {},
   "source": [
    "Question 9\n",
    ". Suppose list words is defined as follows:\n",
    ">>> words = ['The', 'quick', 'brown', 'fox', 'jumps', 'over',\n",
    "'the', 'lazy', 'dog']\n",
    "Write list comprehension expressions that use list words and generate the following\n",
    "lists:\n",
    "a) ['THE', 'QUICK', 'BROWN', 'FOX', 'JUMPS', 'OVER', 'THE',\n",
    "'LAZY', 'DOG']\n",
    "b) ['the', 'quick', 'brown', 'fox', 'jumps', 'over', 'the',\n",
    "'lazy', 'dog']\n",
    "c) [3, 5, 5, 3, 5, 4, 3, 4, 3] (the list of lengths of words in list\n",
    "words).\n",
    "d) [['THE', 'the', 3], ['QUICK', 'quick', 5], ['BROWN',\n",
    "'brown', 5], ['FOX', 'fox', 3], ['JUMPS', 'jumps', 5],\n",
    "['OVER', 'over', 4], ['THE', 'the', 3], ['LAZY', 'lazy',\n",
    "4], ['DOG', 'dog', 3]] (the list containing a list for every word of list\n",
    "words, where each list contains the word in uppercase and lowercase and the\n",
    "length of the word.)\n",
    "e) ['The', 'quick', 'brown', 'fox', 'jumps', 'over', 'the',\n",
    "'lazy', 'dog'] (the list of words in list words containing 4 or more\n",
    "characters.)"
   ]
  },
  {
   "cell_type": "code",
   "execution_count": 15,
   "id": "f72795b2",
   "metadata": {},
   "outputs": [
    {
     "data": {
      "text/plain": [
       "['THE', 'QUICK', 'BROWN', 'FOX', 'JUMPS', 'OVER', 'THE', 'LAZY', 'DOG']"
      ]
     },
     "execution_count": 15,
     "metadata": {},
     "output_type": "execute_result"
    }
   ],
   "source": [
    "words = ['The', 'quick', 'brown', 'fox', 'jumps', 'over', 'the', 'lazy', 'dog']\n",
    "[x.upper() for x in words]"
   ]
  },
  {
   "cell_type": "code",
   "execution_count": 16,
   "id": "ad061cb2",
   "metadata": {},
   "outputs": [
    {
     "data": {
      "text/plain": [
       "['the', 'quick', 'brown', 'fox', 'jumps', 'over', 'the', 'lazy', 'dog']"
      ]
     },
     "execution_count": 16,
     "metadata": {},
     "output_type": "execute_result"
    }
   ],
   "source": [
    "[x.lower() for x in words]"
   ]
  },
  {
   "cell_type": "code",
   "execution_count": 17,
   "id": "ee24f4f2",
   "metadata": {},
   "outputs": [
    {
     "data": {
      "text/plain": [
       "[3, 5, 5, 3, 5, 4, 3, 4, 3]"
      ]
     },
     "execution_count": 17,
     "metadata": {},
     "output_type": "execute_result"
    }
   ],
   "source": [
    "[len(x) for x in words]"
   ]
  },
  {
   "cell_type": "code",
   "execution_count": 18,
   "id": "4ac8f1ed",
   "metadata": {},
   "outputs": [
    {
     "data": {
      "text/plain": [
       "[['THE', 'the', 3],\n",
       " ['QUICK', 'quick', 5],\n",
       " ['BROWN', 'brown', 5],\n",
       " ['FOX', 'fox', 3],\n",
       " ['JUMPS', 'jumps', 5],\n",
       " ['OVER', 'over', 4],\n",
       " ['THE', 'the', 3],\n",
       " ['LAZY', 'lazy', 4],\n",
       " ['DOG', 'dog', 3]]"
      ]
     },
     "execution_count": 18,
     "metadata": {},
     "output_type": "execute_result"
    }
   ],
   "source": [
    "[[x.upper(),x.lower(),len(x)] for x in words]"
   ]
  },
  {
   "cell_type": "code",
   "execution_count": 19,
   "id": "4859e79d",
   "metadata": {},
   "outputs": [
    {
     "data": {
      "text/plain": [
       "['quick', 'brown', 'jumps', 'over', 'lazy']"
      ]
     },
     "execution_count": 19,
     "metadata": {},
     "output_type": "execute_result"
    }
   ],
   "source": [
    "[x for x in words if len(x) >= 4]"
   ]
  },
  {
   "cell_type": "code",
   "execution_count": null,
   "id": "568b2fe2",
   "metadata": {},
   "outputs": [],
   "source": []
  }
 ],
 "metadata": {
  "kernelspec": {
   "display_name": "Python 3 (ipykernel)",
   "language": "python",
   "name": "python3"
  },
  "language_info": {
   "codemirror_mode": {
    "name": "ipython",
    "version": 3
   },
   "file_extension": ".py",
   "mimetype": "text/x-python",
   "name": "python",
   "nbconvert_exporter": "python",
   "pygments_lexer": "ipython3",
   "version": "3.9.12"
  }
 },
 "nbformat": 4,
 "nbformat_minor": 5
}
